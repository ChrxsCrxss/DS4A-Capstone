{
  "nbformat": 4,
  "nbformat_minor": 5,
  "metadata": {
    "kernelspec": {
      "display_name": "Python 3",
      "language": "python",
      "name": "python3"
    },
    "language_info": {
      "codemirror_mode": {
        "name": "ipython",
        "version": 3
      },
      "file_extension": ".py",
      "mimetype": "text/x-python",
      "name": "python",
      "nbconvert_exporter": "python",
      "pygments_lexer": "ipython3",
      "version": "3.8.8"
    },
    "colab": {
      "name": "Pawn_Shops_State.ipynb",
      "provenance": [],
      "include_colab_link": true
    }
  },
  "cells": [
    {
      "cell_type": "markdown",
      "metadata": {
        "id": "view-in-github",
        "colab_type": "text"
      },
      "source": [
        "<a href=\"https://colab.research.google.com/github/ChrxsCrxss/DS4A-Capstone/blob/main/Pawn_Shops_State.ipynb\" target=\"_parent\"><img src=\"https://colab.research.google.com/assets/colab-badge.svg\" alt=\"Open In Colab\"/></a>"
      ]
    },
    {
      "cell_type": "code",
      "metadata": {
        "id": "5b7579d8"
      },
      "source": [
        "import pandas as pd"
      ],
      "id": "5b7579d8",
      "execution_count": 2,
      "outputs": []
    },
    {
      "cell_type": "code",
      "metadata": {
        "id": "33a279c9"
      },
      "source": [
        "#!pip install openpyxl"
      ],
      "id": "33a279c9",
      "execution_count": 1,
      "outputs": []
    },
    {
      "cell_type": "code",
      "metadata": {
        "id": "60cb5c8c",
        "outputId": "92f9574c-6930-4f0d-d692-fdfbe6f4fcb3"
      },
      "source": [
        "import os\n",
        "os.getcwd()\n",
        "#C:\\Users\\Garde\\Documents\\DS4\\Dataset"
      ],
      "id": "60cb5c8c",
      "execution_count": null,
      "outputs": [
        {
          "output_type": "execute_result",
          "data": {
            "text/plain": [
              "'/home/jovyan/case_0.1_fellow'"
            ]
          },
          "metadata": {
            "tags": []
          },
          "execution_count": 15
        }
      ]
    },
    {
      "cell_type": "code",
      "metadata": {
        "id": "5342f82a"
      },
      "source": [
        "excel_file = (r'/content/PawnShops.xlsx')"
      ],
      "id": "5342f82a",
      "execution_count": 3,
      "outputs": []
    },
    {
      "cell_type": "code",
      "metadata": {
        "id": "abd5b056",
        "outputId": "5bd7c584-23f5-44cd-cec6-8312463070fb"
      },
      "source": [
        "print(excel_file)"
      ],
      "id": "abd5b056",
      "execution_count": null,
      "outputs": [
        {
          "output_type": "stream",
          "text": [
            "C:\\Users\\Garde\\Documents\\DS4\\Dataset\\PawnShops.xlsx\n"
          ],
          "name": "stdout"
        }
      ]
    },
    {
      "cell_type": "code",
      "metadata": {
        "id": "83053962"
      },
      "source": [
        "df = pd.read_excel(excel_file) #, sheet_name=)"
      ],
      "id": "83053962",
      "execution_count": 4,
      "outputs": []
    },
    {
      "cell_type": "code",
      "metadata": {
        "colab": {
          "base_uri": "https://localhost:8080/",
          "height": 204
        },
        "id": "3166fd7e",
        "outputId": "9b88e38f-c952-49df-bd5a-bf4b97adee9d"
      },
      "source": [
        "df.head()"
      ],
      "id": "3166fd7e",
      "execution_count": 5,
      "outputs": [
        {
          "output_type": "execute_result",
          "data": {
            "text/html": [
              "<div>\n",
              "<style scoped>\n",
              "    .dataframe tbody tr th:only-of-type {\n",
              "        vertical-align: middle;\n",
              "    }\n",
              "\n",
              "    .dataframe tbody tr th {\n",
              "        vertical-align: top;\n",
              "    }\n",
              "\n",
              "    .dataframe thead th {\n",
              "        text-align: right;\n",
              "    }\n",
              "</style>\n",
              "<table border=\"1\" class=\"dataframe\">\n",
              "  <thead>\n",
              "    <tr style=\"text-align: right;\">\n",
              "      <th></th>\n",
              "      <th>State Name</th>\n",
              "      <th>State</th>\n",
              "      <th>Pawn Shop Per Capita</th>\n",
              "      <th>Pawnshop Count Yellow pages</th>\n",
              "      <th>CENSUS2010POP</th>\n",
              "    </tr>\n",
              "  </thead>\n",
              "  <tbody>\n",
              "    <tr>\n",
              "      <th>0</th>\n",
              "      <td>District of Columbia</td>\n",
              "      <td>DC</td>\n",
              "      <td>94128</td>\n",
              "      <td>7</td>\n",
              "      <td>601723</td>\n",
              "    </tr>\n",
              "    <tr>\n",
              "      <th>1</th>\n",
              "      <td>New Jersey</td>\n",
              "      <td>NJ</td>\n",
              "      <td>53203</td>\n",
              "      <td>168</td>\n",
              "      <td>8791894</td>\n",
              "    </tr>\n",
              "    <tr>\n",
              "      <th>2</th>\n",
              "      <td>Vermont</td>\n",
              "      <td>VT</td>\n",
              "      <td>52214</td>\n",
              "      <td>12</td>\n",
              "      <td>625741</td>\n",
              "    </tr>\n",
              "    <tr>\n",
              "      <th>3</th>\n",
              "      <td>Wisconsin</td>\n",
              "      <td>WI</td>\n",
              "      <td>46061</td>\n",
              "      <td>125</td>\n",
              "      <td>5686986</td>\n",
              "    </tr>\n",
              "    <tr>\n",
              "      <th>4</th>\n",
              "      <td>Pennsylvania</td>\n",
              "      <td>PA</td>\n",
              "      <td>37390</td>\n",
              "      <td>342</td>\n",
              "      <td>12702379</td>\n",
              "    </tr>\n",
              "  </tbody>\n",
              "</table>\n",
              "</div>"
            ],
            "text/plain": [
              "             State Name State  ...  Pawnshop Count Yellow pages  CENSUS2010POP\n",
              "0  District of Columbia    DC  ...                            7         601723\n",
              "1            New Jersey    NJ  ...                          168        8791894\n",
              "2               Vermont    VT  ...                           12         625741\n",
              "3             Wisconsin    WI  ...                          125        5686986\n",
              "4          Pennsylvania    PA  ...                          342       12702379\n",
              "\n",
              "[5 rows x 5 columns]"
            ]
          },
          "metadata": {
            "tags": []
          },
          "execution_count": 5
        }
      ]
    },
    {
      "cell_type": "code",
      "metadata": {
        "id": "3cc2d195"
      },
      "source": [
        ""
      ],
      "id": "3cc2d195",
      "execution_count": null,
      "outputs": []
    },
    {
      "cell_type": "code",
      "metadata": {
        "id": "937f2501"
      },
      "source": [
        ""
      ],
      "id": "937f2501",
      "execution_count": null,
      "outputs": []
    }
  ]
}