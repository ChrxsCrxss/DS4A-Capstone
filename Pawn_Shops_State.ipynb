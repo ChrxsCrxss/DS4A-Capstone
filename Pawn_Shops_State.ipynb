{
 "cells": [
  {
   "cell_type": "markdown",
   "id": "acting-preserve",
   "metadata": {
    "colab_type": "text",
    "id": "view-in-github"
   },
   "source": [
    "<a href=\"https://colab.research.google.com/github/ChrxsCrxss/DS4A-Capstone/blob/main/Pawn_Shops_State.ipynb\" target=\"_parent\"><img src=\"https://colab.research.google.com/assets/colab-badge.svg\" alt=\"Open In Colab\"/></a>"
   ]
  },
  {
   "cell_type": "code",
   "execution_count": 2,
   "id": "helpful-integrity",
   "metadata": {
    "id": "5b7579d8"
   },
   "outputs": [],
   "source": [
    "import pandas as pd"
   ]
  },
  {
   "cell_type": "code",
   "execution_count": 1,
   "id": "broken-interview",
   "metadata": {
    "id": "33a279c9"
   },
   "outputs": [],
   "source": [
    "#!pip install openpyxl"
   ]
  },
  {
   "cell_type": "code",
   "execution_count": 6,
   "id": "transsexual-holly",
   "metadata": {
    "id": "60cb5c8c"
   },
   "outputs": [],
   "source": [
    "#import os\n",
    "#os.getcwd()\n",
    "#C:\\Users\\Garde\\Documents\\DS4\\Dataset"
   ]
  },
  {
   "cell_type": "code",
   "execution_count": 3,
   "id": "appropriate-adaptation",
   "metadata": {
    "id": "5342f82a"
   },
   "outputs": [],
   "source": [
    "excel_file = (r'/content/PawnShops.xlsx')"
   ]
  },
  {
   "cell_type": "code",
   "execution_count": null,
   "id": "retired-construction",
   "metadata": {
    "id": "abd5b056",
    "outputId": "5bd7c584-23f5-44cd-cec6-8312463070fb"
   },
   "outputs": [
    {
     "name": "stdout",
     "output_type": "stream",
     "text": [
      "C:\\Users\\Garde\\Documents\\DS4\\Dataset\\PawnShops.xlsx\n"
     ]
    }
   ],
   "source": [
    "print(excel_file)"
   ]
  },
  {
   "cell_type": "code",
   "execution_count": 4,
   "id": "educational-homework",
   "metadata": {
    "id": "83053962"
   },
   "outputs": [],
   "source": [
    "df = pd.read_excel(excel_file) #, sheet_name=)"
   ]
  },
  {
   "cell_type": "code",
   "execution_count": 5,
   "id": "relevant-locator",
   "metadata": {
    "colab": {
     "base_uri": "https://localhost:8080/",
     "height": 204
    },
    "id": "3166fd7e",
    "outputId": "9b88e38f-c952-49df-bd5a-bf4b97adee9d"
   },
   "outputs": [
    {
     "data": {
      "text/html": [
       "<div>\n",
       "<style scoped>\n",
       "    .dataframe tbody tr th:only-of-type {\n",
       "        vertical-align: middle;\n",
       "    }\n",
       "\n",
       "    .dataframe tbody tr th {\n",
       "        vertical-align: top;\n",
       "    }\n",
       "\n",
       "    .dataframe thead th {\n",
       "        text-align: right;\n",
       "    }\n",
       "</style>\n",
       "<table border=\"1\" class=\"dataframe\">\n",
       "  <thead>\n",
       "    <tr style=\"text-align: right;\">\n",
       "      <th></th>\n",
       "      <th>State Name</th>\n",
       "      <th>State</th>\n",
       "      <th>Pawn Shop Per Capita</th>\n",
       "      <th>Pawnshop Count Yellow pages</th>\n",
       "      <th>CENSUS2010POP</th>\n",
       "    </tr>\n",
       "  </thead>\n",
       "  <tbody>\n",
       "    <tr>\n",
       "      <th>0</th>\n",
       "      <td>District of Columbia</td>\n",
       "      <td>DC</td>\n",
       "      <td>94128</td>\n",
       "      <td>7</td>\n",
       "      <td>601723</td>\n",
       "    </tr>\n",
       "    <tr>\n",
       "      <th>1</th>\n",
       "      <td>New Jersey</td>\n",
       "      <td>NJ</td>\n",
       "      <td>53203</td>\n",
       "      <td>168</td>\n",
       "      <td>8791894</td>\n",
       "    </tr>\n",
       "    <tr>\n",
       "      <th>2</th>\n",
       "      <td>Vermont</td>\n",
       "      <td>VT</td>\n",
       "      <td>52214</td>\n",
       "      <td>12</td>\n",
       "      <td>625741</td>\n",
       "    </tr>\n",
       "    <tr>\n",
       "      <th>3</th>\n",
       "      <td>Wisconsin</td>\n",
       "      <td>WI</td>\n",
       "      <td>46061</td>\n",
       "      <td>125</td>\n",
       "      <td>5686986</td>\n",
       "    </tr>\n",
       "    <tr>\n",
       "      <th>4</th>\n",
       "      <td>Pennsylvania</td>\n",
       "      <td>PA</td>\n",
       "      <td>37390</td>\n",
       "      <td>342</td>\n",
       "      <td>12702379</td>\n",
       "    </tr>\n",
       "  </tbody>\n",
       "</table>\n",
       "</div>"
      ],
      "text/plain": [
       "             State Name State  ...  Pawnshop Count Yellow pages  CENSUS2010POP\n",
       "0  District of Columbia    DC  ...                            7         601723\n",
       "1            New Jersey    NJ  ...                          168        8791894\n",
       "2               Vermont    VT  ...                           12         625741\n",
       "3             Wisconsin    WI  ...                          125        5686986\n",
       "4          Pennsylvania    PA  ...                          342       12702379\n",
       "\n",
       "[5 rows x 5 columns]"
      ]
     },
     "execution_count": 5,
     "metadata": {
      "tags": []
     },
     "output_type": "execute_result"
    }
   ],
   "source": [
    "df.head()"
   ]
  },
  {
   "cell_type": "code",
   "execution_count": null,
   "id": "standard-small",
   "metadata": {
    "id": "3cc2d195"
   },
   "outputs": [],
   "source": []
  },
  {
   "cell_type": "code",
   "execution_count": null,
   "id": "extraordinary-sunset",
   "metadata": {
    "id": "937f2501"
   },
   "outputs": [],
   "source": []
  }
 ],
 "metadata": {
  "colab": {
   "include_colab_link": true,
   "name": "Pawn_Shops_State.ipynb",
   "provenance": []
  },
  "kernelspec": {
   "display_name": "Python 3",
   "language": "python",
   "name": "python3"
  },
  "language_info": {
   "codemirror_mode": {
    "name": "ipython",
    "version": 3
   },
   "file_extension": ".py",
   "mimetype": "text/x-python",
   "name": "python",
   "nbconvert_exporter": "python",
   "pygments_lexer": "ipython3",
   "version": "3.7.2"
  }
 },
 "nbformat": 4,
 "nbformat_minor": 5
}
