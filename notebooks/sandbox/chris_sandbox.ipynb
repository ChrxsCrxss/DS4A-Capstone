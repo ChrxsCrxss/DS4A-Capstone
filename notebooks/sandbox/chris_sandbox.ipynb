{
 "cells": [
  {
   "cell_type": "code",
   "execution_count": 1,
   "id": "interracial-english",
   "metadata": {},
   "outputs": [],
   "source": [
    "import json\n",
    "import pandas as pd\n",
    "import matplotlib.pyplot as plt\n",
    "import seaborn as sns\n",
    "import numpy as np\n",
    "import base64"
   ]
  },
  {
   "cell_type": "code",
   "execution_count": 7,
   "id": "static-variance",
   "metadata": {},
   "outputs": [
    {
     "data": {
      "text/html": [
       "<div>\n",
       "<style scoped>\n",
       "    .dataframe tbody tr th:only-of-type {\n",
       "        vertical-align: middle;\n",
       "    }\n",
       "\n",
       "    .dataframe tbody tr th {\n",
       "        vertical-align: top;\n",
       "    }\n",
       "\n",
       "    .dataframe thead th {\n",
       "        text-align: right;\n",
       "    }\n",
       "</style>\n",
       "<table border=\"1\" class=\"dataframe\">\n",
       "  <thead>\n",
       "    <tr style=\"text-align: right;\">\n",
       "      <th></th>\n",
       "      <th>statenam</th>\n",
       "      <th>county</th>\n",
       "      <th>year</th>\n",
       "      <th>id</th>\n",
       "      <th>broadband</th>\n",
       "      <th>cfips</th>\n",
       "    </tr>\n",
       "  </thead>\n",
       "  <tbody>\n",
       "    <tr>\n",
       "      <th>0</th>\n",
       "      <td>Alabama</td>\n",
       "      <td>Autauga County</td>\n",
       "      <td>2000</td>\n",
       "      <td>0500000US01001</td>\n",
       "      <td>NaN</td>\n",
       "      <td>1001</td>\n",
       "    </tr>\n",
       "    <tr>\n",
       "      <th>1</th>\n",
       "      <td>Alabama</td>\n",
       "      <td>Autauga County</td>\n",
       "      <td>2001</td>\n",
       "      <td>0500000US01001</td>\n",
       "      <td>NaN</td>\n",
       "      <td>1001</td>\n",
       "    </tr>\n",
       "    <tr>\n",
       "      <th>2</th>\n",
       "      <td>Alabama</td>\n",
       "      <td>Autauga County</td>\n",
       "      <td>2002</td>\n",
       "      <td>0500000US01001</td>\n",
       "      <td>NaN</td>\n",
       "      <td>1001</td>\n",
       "    </tr>\n",
       "    <tr>\n",
       "      <th>3</th>\n",
       "      <td>Alabama</td>\n",
       "      <td>Autauga County</td>\n",
       "      <td>2003</td>\n",
       "      <td>0500000US01001</td>\n",
       "      <td>NaN</td>\n",
       "      <td>1001</td>\n",
       "    </tr>\n",
       "    <tr>\n",
       "      <th>4</th>\n",
       "      <td>Alabama</td>\n",
       "      <td>Autauga County</td>\n",
       "      <td>2004</td>\n",
       "      <td>0500000US01001</td>\n",
       "      <td>NaN</td>\n",
       "      <td>1001</td>\n",
       "    </tr>\n",
       "  </tbody>\n",
       "</table>\n",
       "</div>"
      ],
      "text/plain": [
       "  statenam          county  year              id  broadband  cfips\n",
       "0  Alabama  Autauga County  2000  0500000US01001        NaN   1001\n",
       "1  Alabama  Autauga County  2001  0500000US01001        NaN   1001\n",
       "2  Alabama  Autauga County  2002  0500000US01001        NaN   1001\n",
       "3  Alabama  Autauga County  2003  0500000US01001        NaN   1001\n",
       "4  Alabama  Autauga County  2004  0500000US01001        NaN   1001"
      ]
     },
     "execution_count": 7,
     "metadata": {},
     "output_type": "execute_result"
    }
   ],
   "source": [
    "path_to_raw_data = \"../../../capstone/data/raw/\" \n",
    "\n",
    "df = pd.read_excel (r'../../../capstone/data/raw/broadband_long2000-2018rev.xlsx')\n"
   ]
  },
  {
   "cell_type": "code",
   "execution_count": 13,
   "id": "celtic-marketplace",
   "metadata": {},
   "outputs": [
    {
     "data": {
      "text/plain": [
       "statenam      object\n",
       "county        object\n",
       "year           int64\n",
       "id            object\n",
       "broadband    float64\n",
       "cfips          int64\n",
       "dtype: object"
      ]
     },
     "execution_count": 13,
     "metadata": {},
     "output_type": "execute_result"
    }
   ],
   "source": [
    "# Need to convert id to string, need to change 'statenam' to 'statename'\n",
    "df.dtypes"
   ]
  },
  {
   "cell_type": "code",
   "execution_count": 16,
   "id": "indirect-macintosh",
   "metadata": {},
   "outputs": [
    {
     "name": "stderr",
     "output_type": "stream",
     "text": [
      "/Library/Frameworks/Python.framework/Versions/3.7/lib/python3.7/site-packages/ipykernel_launcher.py:3: UserWarning: Boolean Series key will be reindexed to match DataFrame index.\n",
      "  This is separate from the ipykernel package so we can avoid doing imports until\n"
     ]
    },
    {
     "data": {
      "text/html": [
       "<div>\n",
       "<style scoped>\n",
       "    .dataframe tbody tr th:only-of-type {\n",
       "        vertical-align: middle;\n",
       "    }\n",
       "\n",
       "    .dataframe tbody tr th {\n",
       "        vertical-align: top;\n",
       "    }\n",
       "\n",
       "    .dataframe thead th {\n",
       "        text-align: right;\n",
       "    }\n",
       "</style>\n",
       "<table border=\"1\" class=\"dataframe\">\n",
       "  <thead>\n",
       "    <tr style=\"text-align: right;\">\n",
       "      <th></th>\n",
       "      <th>statenam</th>\n",
       "      <th>county</th>\n",
       "      <th>year</th>\n",
       "      <th>id</th>\n",
       "      <th>broadband</th>\n",
       "      <th>cfips</th>\n",
       "    </tr>\n",
       "  </thead>\n",
       "  <tbody>\n",
       "    <tr>\n",
       "      <th>17</th>\n",
       "      <td>Alabama</td>\n",
       "      <td>Autauga County</td>\n",
       "      <td>2017</td>\n",
       "      <td>0500000US01001</td>\n",
       "      <td>0.618182</td>\n",
       "      <td>1001</td>\n",
       "    </tr>\n",
       "    <tr>\n",
       "      <th>18</th>\n",
       "      <td>Alabama</td>\n",
       "      <td>Autauga County</td>\n",
       "      <td>2018</td>\n",
       "      <td>0500000US01001</td>\n",
       "      <td>0.789000</td>\n",
       "      <td>1001</td>\n",
       "    </tr>\n",
       "    <tr>\n",
       "      <th>36</th>\n",
       "      <td>Alabama</td>\n",
       "      <td>Baldwin County</td>\n",
       "      <td>2017</td>\n",
       "      <td>0500000US01003</td>\n",
       "      <td>0.820682</td>\n",
       "      <td>1003</td>\n",
       "    </tr>\n",
       "    <tr>\n",
       "      <th>37</th>\n",
       "      <td>Alabama</td>\n",
       "      <td>Baldwin County</td>\n",
       "      <td>2018</td>\n",
       "      <td>0500000US01003</td>\n",
       "      <td>0.781000</td>\n",
       "      <td>1003</td>\n",
       "    </tr>\n",
       "    <tr>\n",
       "      <th>55</th>\n",
       "      <td>Alabama</td>\n",
       "      <td>Barbour County</td>\n",
       "      <td>2017</td>\n",
       "      <td>0500000US01005</td>\n",
       "      <td>0.478992</td>\n",
       "      <td>1005</td>\n",
       "    </tr>\n",
       "    <tr>\n",
       "      <th>56</th>\n",
       "      <td>Alabama</td>\n",
       "      <td>Barbour County</td>\n",
       "      <td>2018</td>\n",
       "      <td>0500000US01005</td>\n",
       "      <td>0.604000</td>\n",
       "      <td>1005</td>\n",
       "    </tr>\n",
       "    <tr>\n",
       "      <th>74</th>\n",
       "      <td>Alabama</td>\n",
       "      <td>Bibb County</td>\n",
       "      <td>2017</td>\n",
       "      <td>0500000US01007</td>\n",
       "      <td>0.606742</td>\n",
       "      <td>1007</td>\n",
       "    </tr>\n",
       "    <tr>\n",
       "      <th>75</th>\n",
       "      <td>Alabama</td>\n",
       "      <td>Bibb County</td>\n",
       "      <td>2018</td>\n",
       "      <td>0500000US01007</td>\n",
       "      <td>0.661000</td>\n",
       "      <td>1007</td>\n",
       "    </tr>\n",
       "    <tr>\n",
       "      <th>93</th>\n",
       "      <td>Alabama</td>\n",
       "      <td>Blount County</td>\n",
       "      <td>2017</td>\n",
       "      <td>0500000US01009</td>\n",
       "      <td>0.586694</td>\n",
       "      <td>1009</td>\n",
       "    </tr>\n",
       "    <tr>\n",
       "      <th>94</th>\n",
       "      <td>Alabama</td>\n",
       "      <td>Blount County</td>\n",
       "      <td>2018</td>\n",
       "      <td>0500000US01009</td>\n",
       "      <td>0.685000</td>\n",
       "      <td>1009</td>\n",
       "    </tr>\n",
       "  </tbody>\n",
       "</table>\n",
       "</div>"
      ],
      "text/plain": [
       "   statenam          county  year              id  broadband  cfips\n",
       "17  Alabama  Autauga County  2017  0500000US01001   0.618182   1001\n",
       "18  Alabama  Autauga County  2018  0500000US01001   0.789000   1001\n",
       "36  Alabama  Baldwin County  2017  0500000US01003   0.820682   1003\n",
       "37  Alabama  Baldwin County  2018  0500000US01003   0.781000   1003\n",
       "55  Alabama  Barbour County  2017  0500000US01005   0.478992   1005\n",
       "56  Alabama  Barbour County  2018  0500000US01005   0.604000   1005\n",
       "74  Alabama     Bibb County  2017  0500000US01007   0.606742   1007\n",
       "75  Alabama     Bibb County  2018  0500000US01007   0.661000   1007\n",
       "93  Alabama   Blount County  2017  0500000US01009   0.586694   1009\n",
       "94  Alabama   Blount County  2018  0500000US01009   0.685000   1009"
      ]
     },
     "execution_count": 16,
     "metadata": {},
     "output_type": "execute_result"
    }
   ],
   "source": [
    "df_without_na = df[df['broadband'].notna()]\n",
    "df_broadband_2017_to_2018 =  df_without_na[df['year'] >= 2017]\n",
    "df_broadband_2017_to_2018.head(10)"
   ]
  },
  {
   "cell_type": "code",
   "execution_count": 18,
   "id": "intermediate-characteristic",
   "metadata": {},
   "outputs": [
    {
     "data": {
      "text/plain": [
       "(6265, 6)"
      ]
     },
     "execution_count": 18,
     "metadata": {},
     "output_type": "execute_result"
    }
   ],
   "source": [
    "df_broadband_2017_to_2018.shape"
   ]
  },
  {
   "cell_type": "code",
   "execution_count": 19,
   "id": "economic-replication",
   "metadata": {},
   "outputs": [],
   "source": [
    "\n",
    "\n",
    "df_broadband_2017_to_2018 = df_broadband_2017_to_2018.rename(columns={'statenam': 'state', 'broadband': 'broadband_percent'})\n",
    "\n"
   ]
  },
  {
   "cell_type": "code",
   "execution_count": 25,
   "id": "selective-cigarette",
   "metadata": {},
   "outputs": [
    {
     "data": {
      "text/plain": [
       "state                 string\n",
       "county                string\n",
       "year                   int64\n",
       "id                    string\n",
       "broadband_percent    float64\n",
       "cfips                  int64\n",
       "dtype: object"
      ]
     },
     "execution_count": 25,
     "metadata": {},
     "output_type": "execute_result"
    }
   ],
   "source": [
    "df_broadband_2017_to_2018.dtypes"
   ]
  },
  {
   "cell_type": "code",
   "execution_count": 24,
   "id": "optical-glasgow",
   "metadata": {},
   "outputs": [],
   "source": [
    "df_broadband_2017_to_2018['id'] = df_broadband_2017_to_2018['id'].astype('string')\n",
    "df_broadband_2017_to_2018['state'] = df_broadband_2017_to_2018['id'].astype('string')\n",
    "df_broadband_2017_to_2018['county'] = df_broadband_2017_to_2018['id'].astype('string')"
   ]
  },
  {
   "cell_type": "code",
   "execution_count": 30,
   "id": "direct-pitch",
   "metadata": {},
   "outputs": [],
   "source": [
    "df_broadband_2017_to_2018.to_csv('../../../capstone/data/processed/BROADBAND_2017_to_2018', index=False,header=False)\n"
   ]
  },
  {
   "cell_type": "code",
   "execution_count": null,
   "id": "statutory-vegetarian",
   "metadata": {},
   "outputs": [],
   "source": []
  }
 ],
 "metadata": {
  "kernelspec": {
   "display_name": "Python 3",
   "language": "python",
   "name": "python3"
  },
  "language_info": {
   "codemirror_mode": {
    "name": "ipython",
    "version": 3
   },
   "file_extension": ".py",
   "mimetype": "text/x-python",
   "name": "python",
   "nbconvert_exporter": "python",
   "pygments_lexer": "ipython3",
   "version": "3.7.2"
  }
 },
 "nbformat": 4,
 "nbformat_minor": 5
}
