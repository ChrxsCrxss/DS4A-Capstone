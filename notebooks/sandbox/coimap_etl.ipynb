{
 "cells": [
  {
   "cell_type": "code",
   "execution_count": 5,
   "id": "fatal-ireland",
   "metadata": {},
   "outputs": [],
   "source": [
    "import json\n",
    "import pandas as pd\n",
    "import requests\n",
    "from datetime import datetime"
   ]
  },
  {
   "cell_type": "code",
   "execution_count": 8,
   "id": "attached-intro",
   "metadata": {},
   "outputs": [],
   "source": [
    "response = requests.get('https://coinmap.org/api/v1/venues/')\n",
    "data = response.json()\n",
    "venues_array = data['venues']"
   ]
  },
  {
   "cell_type": "code",
   "execution_count": 9,
   "id": "lucky-immigration",
   "metadata": {},
   "outputs": [
    {
     "name": "stdout",
     "output_type": "stream",
     "text": [
      "{'id': 8225, 'lat': 50.1220639499942, 'lon': -5.53289830684662, 'category': 'atm', 'name': 'One And All', 'created_on': 1465943680, 'geolocation_degrees': '5°31\\'58.43\"W, 50°7\\'19.43\"N'}\n"
     ]
    }
   ],
   "source": [
    "print(venues_array[0])"
   ]
  },
  {
   "cell_type": "code",
   "execution_count": 10,
   "id": "driving-generic",
   "metadata": {},
   "outputs": [
    {
     "name": "stdout",
     "output_type": "stream",
     "text": [
      "7382\n",
      "6433\n"
     ]
    }
   ],
   "source": [
    "\n",
    "southernmost_lat = 18.464825 # southern tip of Hawaii\n",
    "easternmost_lon = -66.949471 # eastern tip of Maine \n",
    "\n",
    "# This filtering step reduces the number of records from 22787 to 7379\n",
    "# This still means we have to call the API 7379 times. Unfortunately \n",
    "# there are no further simple optimization we can make, since it turns\n",
    "# out that >6000 of the 7379 actually lie within the United States \n",
    "venues_array = list(filter( lambda ven: int(ven['lon']) <= easternmost_lon, venues_array ))\n",
    "venues_array = list(filter( lambda ven: int(ven['lat']) >= southernmost_lat, venues_array ))\n",
    "\n",
    "print(len(list(venues_array)))\n",
    "\n",
    "venues_usa = []\n",
    "\n",
    "for venue in venues_array: \n",
    "    \n",
    "    lat_param = venue['lat']\n",
    "    lon_param = venue['lon']\n",
    "    \n",
    "    # Get response and convert it into a json\n",
    "    response = requests.get(f'https://geo.fcc.gov/api/census/block/find?latitude={lat_param}&longitude={lon_param}&format=json')\n",
    "    \n",
    "    if response.status_code == 200:\n",
    "        data = response.json()\n",
    "        \n",
    "        # We cast the state name and county name to string becuase when the coordinates lie\n",
    "        # outside of the United States, these values are returned as type <class 'NoneType'>.\n",
    "        # In this case, we simply skip this record and move on to the next on in the veneus_array.\n",
    "        if str(data['State']['name']) == 'None' or str(data['County']['name']) == 'None':\n",
    "            continue\n",
    "        \n",
    "        # If the venue is in the United States, we assign the state name and country name to the\n",
    "        # current venue record. We then append this record, which now contains fields for state and\n",
    "        # county to the venues_usa list. Casting to a string here is a defensive operation. \n",
    "        else:\n",
    "            venue['state'] = str(data['State']['name'])\n",
    "            venue['county'] = str(data['County']['name'])\n",
    "            venues_usa.append(venue)\n",
    "    else:\n",
    "        print(response.status_code, response)\n",
    "    \n",
    "print(len(venues_usa))    "
   ]
  },
  {
   "cell_type": "code",
   "execution_count": 13,
   "id": "turned-reynolds",
   "metadata": {},
   "outputs": [],
   "source": [
    "# Since the continuous process of calling the API for each record is so expensive\n",
    "# we will want to save the data as soon as possible. Although the data has been \n",
    "# feature enigeered to some degree, it is still 'raw', so we will save it to the\n",
    "# raw directory immediately\n",
    "df_venues_usa = pd.json_normalize(venues_usa)\n",
    "df_venues_usa\n",
    "\n",
    "df_venues_usa.to_csv('../../data/raw/COINMAP_DATA_USA', index=False)"
   ]
  },
  {
   "cell_type": "code",
   "execution_count": 17,
   "id": "communist-gentleman",
   "metadata": {},
   "outputs": [
    {
     "data": {
      "text/html": [
       "<div>\n",
       "<style scoped>\n",
       "    .dataframe tbody tr th:only-of-type {\n",
       "        vertical-align: middle;\n",
       "    }\n",
       "\n",
       "    .dataframe tbody tr th {\n",
       "        vertical-align: top;\n",
       "    }\n",
       "\n",
       "    .dataframe thead th {\n",
       "        text-align: right;\n",
       "    }\n",
       "</style>\n",
       "<table border=\"1\" class=\"dataframe\">\n",
       "  <thead>\n",
       "    <tr style=\"text-align: right;\">\n",
       "      <th></th>\n",
       "      <th>lat</th>\n",
       "      <th>lon</th>\n",
       "      <th>category</th>\n",
       "      <th>state</th>\n",
       "      <th>county</th>\n",
       "      <th>year</th>\n",
       "    </tr>\n",
       "  </thead>\n",
       "  <tbody>\n",
       "    <tr>\n",
       "      <th>0</th>\n",
       "      <td>39.261575</td>\n",
       "      <td>-121.016567</td>\n",
       "      <td>default</td>\n",
       "      <td>California</td>\n",
       "      <td>Nevada</td>\n",
       "      <td>2013</td>\n",
       "    </tr>\n",
       "    <tr>\n",
       "      <th>1</th>\n",
       "      <td>39.714651</td>\n",
       "      <td>-104.936268</td>\n",
       "      <td>default</td>\n",
       "      <td>Colorado</td>\n",
       "      <td>Denver</td>\n",
       "      <td>2014</td>\n",
       "    </tr>\n",
       "    <tr>\n",
       "      <th>2</th>\n",
       "      <td>42.362679</td>\n",
       "      <td>-71.086398</td>\n",
       "      <td>shopping</td>\n",
       "      <td>Massachusetts</td>\n",
       "      <td>Middlesex</td>\n",
       "      <td>2014</td>\n",
       "    </tr>\n",
       "    <tr>\n",
       "      <th>3</th>\n",
       "      <td>37.770518</td>\n",
       "      <td>-122.450413</td>\n",
       "      <td>default</td>\n",
       "      <td>California</td>\n",
       "      <td>San Francisco</td>\n",
       "      <td>2013</td>\n",
       "    </tr>\n",
       "    <tr>\n",
       "      <th>4</th>\n",
       "      <td>40.752564</td>\n",
       "      <td>-86.346627</td>\n",
       "      <td>shopping</td>\n",
       "      <td>Indiana</td>\n",
       "      <td>Cass</td>\n",
       "      <td>2016</td>\n",
       "    </tr>\n",
       "    <tr>\n",
       "      <th>...</th>\n",
       "      <td>...</td>\n",
       "      <td>...</td>\n",
       "      <td>...</td>\n",
       "      <td>...</td>\n",
       "      <td>...</td>\n",
       "      <td>...</td>\n",
       "    </tr>\n",
       "    <tr>\n",
       "      <th>6428</th>\n",
       "      <td>33.245510</td>\n",
       "      <td>-111.794510</td>\n",
       "      <td>shopping</td>\n",
       "      <td>Arizona</td>\n",
       "      <td>Maricopa</td>\n",
       "      <td>2021</td>\n",
       "    </tr>\n",
       "    <tr>\n",
       "      <th>6429</th>\n",
       "      <td>39.745218</td>\n",
       "      <td>-75.548354</td>\n",
       "      <td>shopping</td>\n",
       "      <td>Delaware</td>\n",
       "      <td>New Castle</td>\n",
       "      <td>2021</td>\n",
       "    </tr>\n",
       "    <tr>\n",
       "      <th>6430</th>\n",
       "      <td>38.992496</td>\n",
       "      <td>-77.096252</td>\n",
       "      <td>atm</td>\n",
       "      <td>Maryland</td>\n",
       "      <td>Montgomery</td>\n",
       "      <td>2021</td>\n",
       "    </tr>\n",
       "    <tr>\n",
       "      <th>6431</th>\n",
       "      <td>38.903967</td>\n",
       "      <td>-76.981083</td>\n",
       "      <td>atm</td>\n",
       "      <td>District of Columbia</td>\n",
       "      <td>District of Columbia</td>\n",
       "      <td>2021</td>\n",
       "    </tr>\n",
       "    <tr>\n",
       "      <th>6432</th>\n",
       "      <td>39.079399</td>\n",
       "      <td>-76.548014</td>\n",
       "      <td>atm</td>\n",
       "      <td>Maryland</td>\n",
       "      <td>Anne Arundel</td>\n",
       "      <td>2021</td>\n",
       "    </tr>\n",
       "  </tbody>\n",
       "</table>\n",
       "<p>6433 rows × 6 columns</p>\n",
       "</div>"
      ],
      "text/plain": [
       "            lat         lon  category                 state  \\\n",
       "0     39.261575 -121.016567   default            California   \n",
       "1     39.714651 -104.936268   default              Colorado   \n",
       "2     42.362679  -71.086398  shopping         Massachusetts   \n",
       "3     37.770518 -122.450413   default            California   \n",
       "4     40.752564  -86.346627  shopping               Indiana   \n",
       "...         ...         ...       ...                   ...   \n",
       "6428  33.245510 -111.794510  shopping               Arizona   \n",
       "6429  39.745218  -75.548354  shopping              Delaware   \n",
       "6430  38.992496  -77.096252       atm              Maryland   \n",
       "6431  38.903967  -76.981083       atm  District of Columbia   \n",
       "6432  39.079399  -76.548014       atm              Maryland   \n",
       "\n",
       "                    county  year  \n",
       "0                   Nevada  2013  \n",
       "1                   Denver  2014  \n",
       "2                Middlesex  2014  \n",
       "3            San Francisco  2013  \n",
       "4                     Cass  2016  \n",
       "...                    ...   ...  \n",
       "6428              Maricopa  2021  \n",
       "6429            New Castle  2021  \n",
       "6430            Montgomery  2021  \n",
       "6431  District of Columbia  2021  \n",
       "6432          Anne Arundel  2021  \n",
       "\n",
       "[6433 rows x 6 columns]"
      ]
     },
     "execution_count": 17,
     "metadata": {},
     "output_type": "execute_result"
    }
   ],
   "source": [
    "# Since the continuous process of calling the API for each record is so expensive\n",
    "# we will want to save the data as soon as possible. \n",
    "df_venues_usa = pd.json_normalize(venues_usa)\n",
    "\n",
    "df_venues_usa['created_on'] = pd.to_datetime(df_venues_usa['created_on'],unit='s')\n",
    "\n",
    "df_venues_usa['year'] = df_venues_usa['created_on'].dt.year\n",
    "\n",
    "df_venues_usa.drop(['id','promoted','name', 'created_on', 'geolocation_degrees'], axis=1, inplace=True)\n",
    "\n",
    "df_venues_usa"
   ]
  },
  {
   "cell_type": "code",
   "execution_count": 22,
   "id": "bulgarian-textbook",
   "metadata": {},
   "outputs": [
    {
     "data": {
      "text/plain": [
       "state        object\n",
       "county       object\n",
       "lat         float64\n",
       "lon         float64\n",
       "year          int64\n",
       "category     object\n",
       "dtype: object"
      ]
     },
     "execution_count": 22,
     "metadata": {},
     "output_type": "execute_result"
    }
   ],
   "source": [
    "# reorder columns so indices are to the left\n",
    "df_venues_usa = df_venues_usa[['state', 'county', 'lat', 'lon', 'year', 'category']]\n",
    "\n",
    "df_venues_usa.dtypes"
   ]
  },
  {
   "cell_type": "code",
   "execution_count": 20,
   "id": "stable-wells",
   "metadata": {},
   "outputs": [],
   "source": [
    "df_venues_usa.to_csv('../../data/interim/CRYTO_VENUES_USA', index=False)"
   ]
  },
  {
   "cell_type": "code",
   "execution_count": null,
   "id": "freelance-investment",
   "metadata": {},
   "outputs": [],
   "source": []
  }
 ],
 "metadata": {
  "kernelspec": {
   "display_name": "Python 3",
   "language": "python",
   "name": "python3"
  },
  "language_info": {
   "codemirror_mode": {
    "name": "ipython",
    "version": 3
   },
   "file_extension": ".py",
   "mimetype": "text/x-python",
   "name": "python",
   "nbconvert_exporter": "python",
   "pygments_lexer": "ipython3",
   "version": "3.7.2"
  }
 },
 "nbformat": 4,
 "nbformat_minor": 5
}
