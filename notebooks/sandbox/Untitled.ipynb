{
 "cells": [
  {
   "cell_type": "code",
   "execution_count": null,
   "id": "turkish-feedback",
   "metadata": {},
   "outputs": [],
   "source": [
    "import json\n",
    "import pandas as pd\n",
    "import numpy as np"
   ]
  },
  {
   "cell_type": "code",
   "execution_count": 129,
   "id": "earlier-correlation",
   "metadata": {
    "scrolled": true
   },
   "outputs": [],
   "source": [
    "df_edu = pd.read_excel('../../data/raw/Education.xls')"
   ]
  },
  {
   "cell_type": "code",
   "execution_count": 130,
   "id": "expected-purple",
   "metadata": {},
   "outputs": [],
   "source": [
    "# df = df.drop(df.index[4])\n",
    "df_edu = df_edu.rename(columns=df_edu.iloc[3])"
   ]
  },
  {
   "cell_type": "code",
   "execution_count": 133,
   "id": "shaped-worth",
   "metadata": {},
   "outputs": [],
   "source": [
    "df_edu = df_edu.drop([0,1,2,3])\n",
    "df_edu.dropna(inplace=True)"
   ]
  },
  {
   "cell_type": "code",
   "execution_count": 139,
   "id": "analyzed-shipping",
   "metadata": {},
   "outputs": [
    {
     "data": {
      "text/plain": [
       "Index(['state', 'county', 'Less than a high school diploma, 2015-19',\n",
       "       'High school diploma only, 2015-19',\n",
       "       'Some college or associate's degree, 2015-19',\n",
       "       'Bachelor's degree or higher, 2015-19',\n",
       "       'Percent of adults with less than a high school diploma, 2015-19',\n",
       "       'Percent of adults with a high school diploma only, 2015-19',\n",
       "       'Percent of adults completing some college or associate's degree, 2015-19',\n",
       "       'Percent of adults with a bachelor's degree or higher, 2015-19'],\n",
       "      dtype='object')"
      ]
     },
     "execution_count": 139,
     "metadata": {},
     "output_type": "execute_result"
    }
   ],
   "source": [
    "df_edu.columns"
   ]
  },
  {
   "cell_type": "code",
   "execution_count": 136,
   "id": "religious-project",
   "metadata": {},
   "outputs": [
    {
     "name": "stdout",
     "output_type": "stream",
     "text": [
      "invalid literal for int() with base 10: 'Code' FIPS Code\n",
      "invalid literal for int() with base 10: 'tate' State\n",
      "invalid literal for int() with base 10: 'name' Area name\n",
      "invalid literal for int() with base 10: 'Code' 2003 Rural-urban Continuum Code\n",
      "invalid literal for int() with base 10: 'Code' 2003 Urban Influence Code\n",
      "invalid literal for int() with base 10: 'Code' 2013 Rural-urban Continuum Code\n",
      "invalid literal for int() with base 10: 'Code' 2013 Urban Influence Code\n",
      "invalid literal for int() with base 10: '5-19' Less than a high school diploma, 2015-19\n",
      "invalid literal for int() with base 10: '5-19' High school diploma only, 2015-19\n",
      "invalid literal for int() with base 10: '5-19' Some college or associate's degree, 2015-19\n",
      "invalid literal for int() with base 10: '5-19' Bachelor's degree or higher, 2015-19\n",
      "invalid literal for int() with base 10: '5-19' Percent of adults with less than a high school diploma, 2015-19\n",
      "invalid literal for int() with base 10: '5-19' Percent of adults with a high school diploma only, 2015-19\n",
      "invalid literal for int() with base 10: '5-19' Percent of adults completing some college or associate's degree, 2015-19\n",
      "invalid literal for int() with base 10: '5-19' Percent of adults with a bachelor's degree or higher, 2015-19\n"
     ]
    }
   ],
   "source": [
    "# drop columns with data before 2013\n",
    "for column_name in df_edu.columns:\n",
    "    try:\n",
    "        year = int(column_name[-4:])\n",
    "        if year < 2013:\n",
    "            df_edu.drop([column_name], axis=1, inplace=True)\n",
    "    except Exception as e:\n",
    "        print(e, column_name)\n",
    "        continue"
   ]
  },
  {
   "cell_type": "code",
   "execution_count": 138,
   "id": "diagnostic-adventure",
   "metadata": {},
   "outputs": [],
   "source": [
    "df_edu.drop(['FIPS Code','2003 Rural-urban Continuum Code','2003 Urban Influence Code',\n",
    "            '2013 Rural-urban Continuum Code','2013 Urban Influence Code'], axis=1, inplace=True)\n",
    "\n",
    "df_edu = df_edu.rename(columns={'State': 'state', 'Area name': 'county'})\n",
    "\n",
    "# normalize state column values\n",
    "states_dict = {\"AL\":\"Alabama\",\"AK\":\"Alaska\",\"AZ\":\"Arizona\",\"AR\":\"Arkansas\",\"CA\":\"California\",\"CO\":\"Colorado\",\"CT\":\"Connecticut\",\"DE\":\"Delaware\",\"DC\": \"Washington D.C.\", \"FL\":\"Florida\",\"GA\":\"Georgia\",\"HI\":\"Hawaii\",\"ID\":\"Idaho\",\"IL\":\"Illinois\",\"IN\":\"Indiana\",\"IA\":\"Iowa\",\"KS\":\"Kansas\",\"KY\":\"Kentucky\",\"LA\":\"Louisiana\",\"ME\":\"Maine\",\"MD\":\"Maryland\",\"MA\":\"Massachusetts\",\"MI\":\"Michigan\",\"MN\":\"Minnesota\",\"MS\":\"Mississippi\",\"MO\":\"Missouri\",\"MT\":\"Montana\",\"NE\":\"Nebraska\",\"NV\":\"Nevada\",\"NH\":\"New Hampshire\",\"NJ\":\"New Jersey\",\"NM\":\"New Mexico\",\"NY\":\"New York\",\"NC\":\"North Carolina\",\"ND\":\"North Dakota\",\"OH\":\"Ohio\",\"OK\":\"Oklahoma\",\"OR\":\"Oregon\",\"PA\":\"Pennsylvania\",\"RI\":\"Rhode Island\",\"SC\":\"South Carolina\",\"SD\":\"South Dakota\",\"TN\":\"Tennessee\",\"TX\":\"Texas\",\"UT\":\"Utah\",\"VT\":\"Vermont\",\"VA\":\"Virginia\",\"WA\":\"Washington\",\"WV\":\"West Virginia\",\"WI\":\"Wisconsin\",\"WY\":\"Wyoming\"}\n",
    "df_edu['state'] = df_edu['state'].replace(states_dict)\n",
    "\n",
    "# normalize values for county column\n",
    "df_edu['county'] = df_edu['county'].str.replace(' County', '')"
   ]
  },
  {
   "cell_type": "markdown",
   "id": "round-algorithm",
   "metadata": {},
   "source": [
    "*===================================================================================*"
   ]
  },
  {
   "cell_type": "code",
   "execution_count": 141,
   "id": "formal-aaron",
   "metadata": {},
   "outputs": [
    {
     "name": "stdout",
     "output_type": "stream",
     "text": [
      "state    string\n",
      "county    string\n",
      "Less than a high school diploma, 2015-19    int64\n",
      "High school diploma only, 2015-19    int64\n",
      "Some college or associate's degree, 2015-19    int64\n",
      "Bachelor's degree or higher, 2015-19    int64\n",
      "Percent of adults with less than a high school diploma, 2015-19    float64\n",
      "Percent of adults with a high school diploma only, 2015-19    float64\n",
      "Percent of adults completing some college or associate's degree, 2015-19    float64\n",
      "Percent of adults with a bachelor's degree or higher, 2015-19    float64\n"
     ]
    }
   ],
   "source": [
    "# casting and type checking\n",
    "for column in df_edu.columns:\n",
    "    if column == 'state' or column == 'county':\n",
    "        df_edu[column] = df_edu[column].astype(\n",
    "            'string')\n",
    "    elif 'Percent' in column:\n",
    "        df_edu[column] = df_edu[column].astype(\n",
    "            'float')\n",
    "    else:\n",
    "        df_edu[column] = df_edu[column].astype(\n",
    "            'int')\n",
    "    print(str(column) + \"    \" + str(df_edu[column].dtype))\n",
    "    assert(df_edu[column].dtype != 'object')"
   ]
  },
  {
   "cell_type": "code",
   "execution_count": 143,
   "id": "accomplished-capability",
   "metadata": {},
   "outputs": [],
   "source": [
    "for ele in ['AS', 'GU', 'MP', 'PR', 'VI',\n",
    "            'Guam', 'Puerto Rico', \"Virgin Islands\"\n",
    "            ]:\n",
    "    df_edu = df_edu[df_edu.state != ele]"
   ]
  },
  {
   "cell_type": "code",
   "execution_count": 144,
   "id": "available-favorite",
   "metadata": {},
   "outputs": [
    {
     "data": {
      "text/html": [
       "<div>\n",
       "<style scoped>\n",
       "    .dataframe tbody tr th:only-of-type {\n",
       "        vertical-align: middle;\n",
       "    }\n",
       "\n",
       "    .dataframe tbody tr th {\n",
       "        vertical-align: top;\n",
       "    }\n",
       "\n",
       "    .dataframe thead th {\n",
       "        text-align: right;\n",
       "    }\n",
       "</style>\n",
       "<table border=\"1\" class=\"dataframe\">\n",
       "  <thead>\n",
       "    <tr style=\"text-align: right;\">\n",
       "      <th></th>\n",
       "      <th>state</th>\n",
       "      <th>county</th>\n",
       "      <th>Less than a high school diploma, 2015-19</th>\n",
       "      <th>High school diploma only, 2015-19</th>\n",
       "      <th>Some college or associate's degree, 2015-19</th>\n",
       "      <th>Bachelor's degree or higher, 2015-19</th>\n",
       "      <th>Percent of adults with less than a high school diploma, 2015-19</th>\n",
       "      <th>Percent of adults with a high school diploma only, 2015-19</th>\n",
       "      <th>Percent of adults completing some college or associate's degree, 2015-19</th>\n",
       "      <th>Percent of adults with a bachelor's degree or higher, 2015-19</th>\n",
       "    </tr>\n",
       "  </thead>\n",
       "  <tbody>\n",
       "    <tr>\n",
       "      <th>6</th>\n",
       "      <td>Alabama</td>\n",
       "      <td>Autauga</td>\n",
       "      <td>4291</td>\n",
       "      <td>12551</td>\n",
       "      <td>10596</td>\n",
       "      <td>9929</td>\n",
       "      <td>11.0</td>\n",
       "      <td>33.0</td>\n",
       "      <td>28.0</td>\n",
       "      <td>26.0</td>\n",
       "    </tr>\n",
       "    <tr>\n",
       "      <th>7</th>\n",
       "      <td>Alabama</td>\n",
       "      <td>Baldwin</td>\n",
       "      <td>13893</td>\n",
       "      <td>41797</td>\n",
       "      <td>47274</td>\n",
       "      <td>48148</td>\n",
       "      <td>9.0</td>\n",
       "      <td>27.0</td>\n",
       "      <td>31.0</td>\n",
       "      <td>31.0</td>\n",
       "    </tr>\n",
       "    <tr>\n",
       "      <th>8</th>\n",
       "      <td>Alabama</td>\n",
       "      <td>Barbour</td>\n",
       "      <td>4812</td>\n",
       "      <td>6396</td>\n",
       "      <td>4676</td>\n",
       "      <td>2080</td>\n",
       "      <td>26.0</td>\n",
       "      <td>35.0</td>\n",
       "      <td>26.0</td>\n",
       "      <td>11.0</td>\n",
       "    </tr>\n",
       "    <tr>\n",
       "      <th>9</th>\n",
       "      <td>Alabama</td>\n",
       "      <td>Bibb</td>\n",
       "      <td>3386</td>\n",
       "      <td>7256</td>\n",
       "      <td>3848</td>\n",
       "      <td>1678</td>\n",
       "      <td>20.0</td>\n",
       "      <td>44.0</td>\n",
       "      <td>23.0</td>\n",
       "      <td>10.0</td>\n",
       "    </tr>\n",
       "    <tr>\n",
       "      <th>10</th>\n",
       "      <td>Alabama</td>\n",
       "      <td>Blount</td>\n",
       "      <td>7763</td>\n",
       "      <td>13299</td>\n",
       "      <td>13519</td>\n",
       "      <td>5210</td>\n",
       "      <td>19.0</td>\n",
       "      <td>33.0</td>\n",
       "      <td>33.0</td>\n",
       "      <td>13.0</td>\n",
       "    </tr>\n",
       "    <tr>\n",
       "      <th>...</th>\n",
       "      <td>...</td>\n",
       "      <td>...</td>\n",
       "      <td>...</td>\n",
       "      <td>...</td>\n",
       "      <td>...</td>\n",
       "      <td>...</td>\n",
       "      <td>...</td>\n",
       "      <td>...</td>\n",
       "      <td>...</td>\n",
       "      <td>...</td>\n",
       "    </tr>\n",
       "    <tr>\n",
       "      <th>3203</th>\n",
       "      <td>Wyoming</td>\n",
       "      <td>Sweetwater</td>\n",
       "      <td>2017</td>\n",
       "      <td>9239</td>\n",
       "      <td>10415</td>\n",
       "      <td>6291</td>\n",
       "      <td>7.0</td>\n",
       "      <td>33.0</td>\n",
       "      <td>37.0</td>\n",
       "      <td>22.0</td>\n",
       "    </tr>\n",
       "    <tr>\n",
       "      <th>3204</th>\n",
       "      <td>Wyoming</td>\n",
       "      <td>Teton</td>\n",
       "      <td>834</td>\n",
       "      <td>2577</td>\n",
       "      <td>4037</td>\n",
       "      <td>9875</td>\n",
       "      <td>4.0</td>\n",
       "      <td>14.0</td>\n",
       "      <td>23.0</td>\n",
       "      <td>57.0</td>\n",
       "    </tr>\n",
       "    <tr>\n",
       "      <th>3205</th>\n",
       "      <td>Wyoming</td>\n",
       "      <td>Uinta</td>\n",
       "      <td>941</td>\n",
       "      <td>5383</td>\n",
       "      <td>4562</td>\n",
       "      <td>2078</td>\n",
       "      <td>7.0</td>\n",
       "      <td>41.0</td>\n",
       "      <td>35.0</td>\n",
       "      <td>16.0</td>\n",
       "    </tr>\n",
       "    <tr>\n",
       "      <th>3206</th>\n",
       "      <td>Wyoming</td>\n",
       "      <td>Washakie</td>\n",
       "      <td>568</td>\n",
       "      <td>1650</td>\n",
       "      <td>2031</td>\n",
       "      <td>1297</td>\n",
       "      <td>10.0</td>\n",
       "      <td>29.0</td>\n",
       "      <td>36.0</td>\n",
       "      <td>23.0</td>\n",
       "    </tr>\n",
       "    <tr>\n",
       "      <th>3207</th>\n",
       "      <td>Wyoming</td>\n",
       "      <td>Weston</td>\n",
       "      <td>323</td>\n",
       "      <td>1904</td>\n",
       "      <td>1844</td>\n",
       "      <td>1016</td>\n",
       "      <td>6.0</td>\n",
       "      <td>37.0</td>\n",
       "      <td>36.0</td>\n",
       "      <td>19.0</td>\n",
       "    </tr>\n",
       "  </tbody>\n",
       "</table>\n",
       "<p>3125 rows × 10 columns</p>\n",
       "</div>"
      ],
      "text/plain": [
       "        state      county  Less than a high school diploma, 2015-19  \\\n",
       "6     Alabama     Autauga                                      4291   \n",
       "7     Alabama     Baldwin                                     13893   \n",
       "8     Alabama     Barbour                                      4812   \n",
       "9     Alabama        Bibb                                      3386   \n",
       "10    Alabama      Blount                                      7763   \n",
       "...       ...         ...                                       ...   \n",
       "3203  Wyoming  Sweetwater                                      2017   \n",
       "3204  Wyoming       Teton                                       834   \n",
       "3205  Wyoming       Uinta                                       941   \n",
       "3206  Wyoming    Washakie                                       568   \n",
       "3207  Wyoming      Weston                                       323   \n",
       "\n",
       "      High school diploma only, 2015-19  \\\n",
       "6                                 12551   \n",
       "7                                 41797   \n",
       "8                                  6396   \n",
       "9                                  7256   \n",
       "10                                13299   \n",
       "...                                 ...   \n",
       "3203                               9239   \n",
       "3204                               2577   \n",
       "3205                               5383   \n",
       "3206                               1650   \n",
       "3207                               1904   \n",
       "\n",
       "      Some college or associate's degree, 2015-19  \\\n",
       "6                                           10596   \n",
       "7                                           47274   \n",
       "8                                            4676   \n",
       "9                                            3848   \n",
       "10                                          13519   \n",
       "...                                           ...   \n",
       "3203                                        10415   \n",
       "3204                                         4037   \n",
       "3205                                         4562   \n",
       "3206                                         2031   \n",
       "3207                                         1844   \n",
       "\n",
       "      Bachelor's degree or higher, 2015-19  \\\n",
       "6                                     9929   \n",
       "7                                    48148   \n",
       "8                                     2080   \n",
       "9                                     1678   \n",
       "10                                    5210   \n",
       "...                                    ...   \n",
       "3203                                  6291   \n",
       "3204                                  9875   \n",
       "3205                                  2078   \n",
       "3206                                  1297   \n",
       "3207                                  1016   \n",
       "\n",
       "      Percent of adults with less than a high school diploma, 2015-19  \\\n",
       "6                                                  11.0                 \n",
       "7                                                   9.0                 \n",
       "8                                                  26.0                 \n",
       "9                                                  20.0                 \n",
       "10                                                 19.0                 \n",
       "...                                                 ...                 \n",
       "3203                                                7.0                 \n",
       "3204                                                4.0                 \n",
       "3205                                                7.0                 \n",
       "3206                                               10.0                 \n",
       "3207                                                6.0                 \n",
       "\n",
       "      Percent of adults with a high school diploma only, 2015-19  \\\n",
       "6                                                  33.0            \n",
       "7                                                  27.0            \n",
       "8                                                  35.0            \n",
       "9                                                  44.0            \n",
       "10                                                 33.0            \n",
       "...                                                 ...            \n",
       "3203                                               33.0            \n",
       "3204                                               14.0            \n",
       "3205                                               41.0            \n",
       "3206                                               29.0            \n",
       "3207                                               37.0            \n",
       "\n",
       "      Percent of adults completing some college or associate's degree, 2015-19  \\\n",
       "6                                                  28.0                          \n",
       "7                                                  31.0                          \n",
       "8                                                  26.0                          \n",
       "9                                                  23.0                          \n",
       "10                                                 33.0                          \n",
       "...                                                 ...                          \n",
       "3203                                               37.0                          \n",
       "3204                                               23.0                          \n",
       "3205                                               35.0                          \n",
       "3206                                               36.0                          \n",
       "3207                                               36.0                          \n",
       "\n",
       "      Percent of adults with a bachelor's degree or higher, 2015-19  \n",
       "6                                                  26.0              \n",
       "7                                                  31.0              \n",
       "8                                                  11.0              \n",
       "9                                                  10.0              \n",
       "10                                                 13.0              \n",
       "...                                                 ...              \n",
       "3203                                               22.0              \n",
       "3204                                               57.0              \n",
       "3205                                               16.0              \n",
       "3206                                               23.0              \n",
       "3207                                               19.0              \n",
       "\n",
       "[3125 rows x 10 columns]"
      ]
     },
     "execution_count": 144,
     "metadata": {},
     "output_type": "execute_result"
    }
   ],
   "source": [
    "df_edu"
   ]
  },
  {
   "cell_type": "code",
   "execution_count": 156,
   "id": "available-vietnamese",
   "metadata": {},
   "outputs": [
    {
     "ename": "AttributeError",
     "evalue": "'DataFrame' object has no attribute 'to_csv_'",
     "output_type": "error",
     "traceback": [
      "\u001b[0;31m---------------------------------------------------------------------------\u001b[0m",
      "\u001b[0;31mAttributeError\u001b[0m                            Traceback (most recent call last)",
      "\u001b[0;32m<ipython-input-156-b888e2a5c3c6>\u001b[0m in \u001b[0;36m<module>\u001b[0;34m\u001b[0m\n\u001b[0;32m----> 1\u001b[0;31m \u001b[0mdf_edu\u001b[0m\u001b[0;34m.\u001b[0m\u001b[0mto_csv_\u001b[0m\u001b[0;34m(\u001b[0m\u001b[0;34m'../../data/interim/Education.xls'\u001b[0m\u001b[0;34m,\u001b[0m\u001b[0mindex\u001b[0m\u001b[0;34m=\u001b[0m\u001b[0;32mFalse\u001b[0m\u001b[0;34m)\u001b[0m\u001b[0;34m\u001b[0m\u001b[0;34m\u001b[0m\u001b[0m\n\u001b[0m",
      "\u001b[0;32m/Library/Frameworks/Python.framework/Versions/3.7/lib/python3.7/site-packages/pandas/core/generic.py\u001b[0m in \u001b[0;36m__getattr__\u001b[0;34m(self, name)\u001b[0m\n\u001b[1;32m   5463\u001b[0m             \u001b[0;32mif\u001b[0m \u001b[0mself\u001b[0m\u001b[0;34m.\u001b[0m\u001b[0m_info_axis\u001b[0m\u001b[0;34m.\u001b[0m\u001b[0m_can_hold_identifiers_and_holds_name\u001b[0m\u001b[0;34m(\u001b[0m\u001b[0mname\u001b[0m\u001b[0;34m)\u001b[0m\u001b[0;34m:\u001b[0m\u001b[0;34m\u001b[0m\u001b[0;34m\u001b[0m\u001b[0m\n\u001b[1;32m   5464\u001b[0m                 \u001b[0;32mreturn\u001b[0m \u001b[0mself\u001b[0m\u001b[0;34m[\u001b[0m\u001b[0mname\u001b[0m\u001b[0;34m]\u001b[0m\u001b[0;34m\u001b[0m\u001b[0;34m\u001b[0m\u001b[0m\n\u001b[0;32m-> 5465\u001b[0;31m             \u001b[0;32mreturn\u001b[0m \u001b[0mobject\u001b[0m\u001b[0;34m.\u001b[0m\u001b[0m__getattribute__\u001b[0m\u001b[0;34m(\u001b[0m\u001b[0mself\u001b[0m\u001b[0;34m,\u001b[0m \u001b[0mname\u001b[0m\u001b[0;34m)\u001b[0m\u001b[0;34m\u001b[0m\u001b[0;34m\u001b[0m\u001b[0m\n\u001b[0m\u001b[1;32m   5466\u001b[0m \u001b[0;34m\u001b[0m\u001b[0m\n\u001b[1;32m   5467\u001b[0m     \u001b[0;32mdef\u001b[0m \u001b[0m__setattr__\u001b[0m\u001b[0;34m(\u001b[0m\u001b[0mself\u001b[0m\u001b[0;34m,\u001b[0m \u001b[0mname\u001b[0m\u001b[0;34m:\u001b[0m \u001b[0mstr\u001b[0m\u001b[0;34m,\u001b[0m \u001b[0mvalue\u001b[0m\u001b[0;34m)\u001b[0m \u001b[0;34m->\u001b[0m \u001b[0;32mNone\u001b[0m\u001b[0;34m:\u001b[0m\u001b[0;34m\u001b[0m\u001b[0;34m\u001b[0m\u001b[0m\n",
      "\u001b[0;31mAttributeError\u001b[0m: 'DataFrame' object has no attribute 'to_csv_'"
     ]
    }
   ],
   "source": [
    "df_edu.to_csv('../../data/interim/Education.xls',index=False)"
   ]
  },
  {
   "cell_type": "code",
   "execution_count": 158,
   "id": "floating-allah",
   "metadata": {},
   "outputs": [],
   "source": [
    "df_urcc = pd.read_excel ('../../data/raw/ruralurbancodes2013.xls')"
   ]
  },
  {
   "cell_type": "code",
   "execution_count": 159,
   "id": "reliable-winner",
   "metadata": {},
   "outputs": [],
   "source": [
    "df_urcc.drop(['FIPS', 'Population_2010'], axis=1, inplace=True)\n",
    "df_urcc = df_urcc.dropna()\n",
    "df_urcc['RUCC_2013'] = df_urcc['RUCC_2013'].astype('int')\n"
   ]
  },
  {
   "cell_type": "code",
   "execution_count": 160,
   "id": "phantom-daughter",
   "metadata": {},
   "outputs": [],
   "source": [
    "df_urcc = df_urcc.rename(columns={\"State\":\"state\", \"County_Name\":\"county\"})"
   ]
  },
  {
   "cell_type": "code",
   "execution_count": 161,
   "id": "significant-russell",
   "metadata": {},
   "outputs": [],
   "source": [
    "# normalize state column values\n",
    "states_dict = {\"AL\":\"Alabama\",\"AK\":\"Alaska\",\"AZ\":\"Arizona\",\"AR\":\"Arkansas\",\"CA\":\"California\",\"CO\":\"Colorado\",\"CT\":\"Connecticut\",\"DE\":\"Delaware\",\"DC\": \"Washington D.C.\", \"FL\":\"Florida\",\"GA\":\"Georgia\",\"HI\":\"Hawaii\",\"ID\":\"Idaho\",\"IL\":\"Illinois\",\"IN\":\"Indiana\",\"IA\":\"Iowa\",\"KS\":\"Kansas\",\"KY\":\"Kentucky\",\"LA\":\"Louisiana\",\"ME\":\"Maine\",\"MD\":\"Maryland\",\"MA\":\"Massachusetts\",\"MI\":\"Michigan\",\"MN\":\"Minnesota\",\"MS\":\"Mississippi\",\"MO\":\"Missouri\",\"MT\":\"Montana\",\"NE\":\"Nebraska\",\"NV\":\"Nevada\",\"NH\":\"New Hampshire\",\"NJ\":\"New Jersey\",\"NM\":\"New Mexico\",\"NY\":\"New York\",\"NC\":\"North Carolina\",\"ND\":\"North Dakota\",\"OH\":\"Ohio\",\"OK\":\"Oklahoma\",\"OR\":\"Oregon\",\"PA\":\"Pennsylvania\",\"RI\":\"Rhode Island\",\"SC\":\"South Carolina\",\"SD\":\"South Dakota\",\"TN\":\"Tennessee\",\"TX\":\"Texas\",\"UT\":\"Utah\",\"VT\":\"Vermont\",\"VA\":\"Virginia\",\"WA\":\"Washington\",\"WV\":\"West Virginia\",\"WI\":\"Wisconsin\",\"WY\":\"Wyoming\"}\n",
    "df_urcc['state'] = df_urcc['state'].replace(states_dict)\n",
    "\n",
    "# normalize values for county column\n",
    "df_urcc['county'] = df_urcc['county'].str.replace(' County', '')"
   ]
  },
  {
   "cell_type": "code",
   "execution_count": 150,
   "id": "advance-mercury",
   "metadata": {},
   "outputs": [],
   "source": [
    "# Filter out US territories, protectorates, etc. \n",
    "for ele in ['AS', 'GU', 'MP', 'PR', 'VI']:        \n",
    "    df_urcc = df_urcc[df_urcc.state != ele]"
   ]
  },
  {
   "cell_type": "code",
   "execution_count": 151,
   "id": "historic-memorabilia",
   "metadata": {},
   "outputs": [
    {
     "data": {
      "text/plain": [
       "51"
      ]
     },
     "execution_count": 151,
     "metadata": {},
     "output_type": "execute_result"
    }
   ],
   "source": [
    "len(list(df_urcc.state.unique()))"
   ]
  },
  {
   "cell_type": "code",
   "execution_count": 162,
   "id": "twelve-clearing",
   "metadata": {},
   "outputs": [
    {
     "name": "stdout",
     "output_type": "stream",
     "text": [
      "Hoonah-Angoon Census Area, AK\n"
     ]
    }
   ],
   "source": [
    "for cnty in df_urcc['county']:\n",
    "    if 'Census Area' in cnty:\n",
    "        df_urcc = df_urcc[df_urcc['county'] != cnty]"
   ]
  },
  {
   "cell_type": "code",
   "execution_count": null,
   "id": "measured-columbia",
   "metadata": {},
   "outputs": [],
   "source": []
  }
 ],
 "metadata": {
  "kernelspec": {
   "display_name": "Python 3",
   "language": "python",
   "name": "python3"
  },
  "language_info": {
   "codemirror_mode": {
    "name": "ipython",
    "version": 3
   },
   "file_extension": ".py",
   "mimetype": "text/x-python",
   "name": "python",
   "nbconvert_exporter": "python",
   "pygments_lexer": "ipython3",
   "version": "3.7.2"
  }
 },
 "nbformat": 4,
 "nbformat_minor": 5
}
